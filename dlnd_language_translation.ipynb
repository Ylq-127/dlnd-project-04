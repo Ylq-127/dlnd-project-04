{
 "cells": [
  {
   "cell_type": "markdown",
   "metadata": {
    "collapsed": true
   },
   "source": [
    "# Language Translation\n",
    "In this project, you’re going to take a peek into the realm of neural network machine translation.  You’ll be training a sequence to sequence model on a dataset of English and French sentences that can translate new sentences from English to French.\n",
    "## Get the Data\n",
    "Since translating the whole language of English to French will take lots of time to train, we have provided you with a small portion of the English corpus."
   ]
  },
  {
   "cell_type": "code",
   "execution_count": 1,
   "metadata": {
    "collapsed": true
   },
   "outputs": [],
   "source": [
    "import helper\n",
    "import numpy as np\n",
    "#??helper"
   ]
  },
  {
   "cell_type": "code",
   "execution_count": 7,
   "metadata": {},
   "outputs": [],
   "source": [
    "\"\"\"\n",
    "DON'T MODIFY ANYTHING IN THIS CELL\n",
    "\"\"\"\n",
    "import helper\n",
    "import problem_unittests as tests\n",
    "\n",
    "source_path = 'data/small_vocab_en'\n",
    "target_path = 'data/small_vocab_fr'\n",
    "source_text = helper.load_data(source_path)\n",
    "target_text = helper.load_data(target_path)"
   ]
  },
  {
   "cell_type": "markdown",
   "metadata": {},
   "source": [
    "## Explore the Data\n",
    "Play around with view_sentence_range to view different parts of the data."
   ]
  },
  {
   "cell_type": "code",
   "execution_count": 8,
   "metadata": {},
   "outputs": [
    {
     "name": "stdout",
     "output_type": "stream",
     "text": [
      "3\n",
      "17\n",
      "212\n",
      "Dataset Stats\n",
      "Roughly the number of unique words: 227\n",
      "Number of sentences: 137861\n",
      "Average number of words in a sentence: 13.225277634719028\n",
      "\n",
      "English sentences 0 to 10:\n",
      "new jersey is sometimes quiet during autumn , and it is snowy in april .\n",
      "the united states is usually chilly during july , and it is usually freezing in november .\n",
      "california is usually quiet during march , and it is usually hot in june .\n",
      "the united states is sometimes mild during june , and it is cold in september .\n",
      "your least liked fruit is the grape , but my least liked is the apple .\n",
      "his favorite fruit is the orange , but my favorite is the grape .\n",
      "paris is relaxing during december , but it is usually chilly in july .\n",
      "new jersey is busy during spring , and it is never hot in march .\n",
      "our least liked fruit is the lemon , but my least liked is the grape .\n",
      "the united states is sometimes busy during january , and it is sometimes warm in november .\n",
      "\n",
      "French sentences 0 to 10:\n",
      "new jersey est parfois calme pendant l' automne , et il est neigeux en avril .\n",
      "les états-unis est généralement froid en juillet , et il gèle habituellement en novembre .\n",
      "california est généralement calme en mars , et il est généralement chaud en juin .\n",
      "les états-unis est parfois légère en juin , et il fait froid en septembre .\n",
      "votre moins aimé fruit est le raisin , mais mon moins aimé est la pomme .\n",
      "son fruit préféré est l'orange , mais mon préféré est le raisin .\n",
      "paris est relaxant en décembre , mais il est généralement froid en juillet .\n",
      "new jersey est occupé au printemps , et il est jamais chaude en mars .\n",
      "notre fruit est moins aimé le citron , mais mon moins aimé est le raisin .\n",
      "les états-unis est parfois occupé en janvier , et il est parfois chaud en novembre .\n"
     ]
    }
   ],
   "source": [
    "view_sentence_range = (0, 10)\n",
    "voc = {word: None for word in \"\\n\".join(source_text.split('\\n')[:2027]).split()}\n",
    "print(np.min([len(sentence.split()) for sentence in source_text.split('\\n') if sentence != '']))\n",
    "print(np.max([len(sentence.split()) for sentence in source_text.split('\\n')]))\n",
    "#print(voc.keys())\n",
    "print(len(voc.keys()))\n",
    "\"\"\"\n",
    "DON'T MODIFY ANYTHING IN THIS CELL\n",
    "\"\"\"\n",
    "import numpy as np\n",
    "\n",
    "print('Dataset Stats')\n",
    "print('Roughly the number of unique words: {}'.format(len({word: None for word in source_text.split()})))\n",
    "\n",
    "sentences = source_text.split('\\n')\n",
    "word_counts = [len(sentence.split()) for sentence in sentences]\n",
    "print('Number of sentences: {}'.format(len(sentences)))\n",
    "print('Average number of words in a sentence: {}'.format(np.average(word_counts)))\n",
    "\n",
    "print()\n",
    "print('English sentences {} to {}:'.format(*view_sentence_range))\n",
    "print('\\n'.join(source_text.split('\\n')[view_sentence_range[0]:view_sentence_range[1]]))\n",
    "print()\n",
    "print('French sentences {} to {}:'.format(*view_sentence_range))\n",
    "print('\\n'.join(target_text.split('\\n')[view_sentence_range[0]:view_sentence_range[1]]))"
   ]
  },
  {
   "cell_type": "markdown",
   "metadata": {},
   "source": [
    "## Implement Preprocessing Function\n",
    "### Text to Word Ids\n",
    "As you did with other RNNs, you must turn the text into a number so the computer can understand it. In the function `text_to_ids()`, you'll turn `source_text` and `target_text` from words to ids.  However, you need to add the `<EOS>` word id at the end of each sentence from `target_text`.  This will help the neural network predict when the sentence should end.\n",
    "\n",
    "You can get the `<EOS>` word id by doing:\n",
    "```python\n",
    "target_vocab_to_int['<EOS>']\n",
    "```\n",
    "You can get other word ids using `source_vocab_to_int` and `target_vocab_to_int`."
   ]
  },
  {
   "cell_type": "code",
   "execution_count": 9,
   "metadata": {},
   "outputs": [
    {
     "name": "stdout",
     "output_type": "stream",
     "text": [
      "Tests Passed\n"
     ]
    }
   ],
   "source": [
    "def text_to_ids(source_text, target_text, source_vocab_to_int, target_vocab_to_int):\n",
    "    \"\"\"\n",
    "    Convert source and target text to proper word ids\n",
    "    :param source_text: String that contains all the source text.\n",
    "    :param target_text: String that contains all the target text.\n",
    "    :param source_vocab_to_int: Dictionary to go from the source words to an id\n",
    "    :param target_vocab_to_int: Dictionary to go from the target words to an id\n",
    "    :return: A tuple of lists (source_id_text, target_id_text)\n",
    "    \"\"\"\n",
    "    # TODO: Implement Function\n",
    "    source_id_text = []\n",
    "    target_id_text = []\n",
    "    for sentence in source_text.split(\"\\n\"):\n",
    "        out = [source_vocab_to_int[w] for w in sentence.split()]\n",
    "        source_id_text.append(out)\n",
    "    for sentence in target_text.split(\"\\n\"):\n",
    "        out = [target_vocab_to_int[w] for w in sentence.split()]\n",
    "        out.append(target_vocab_to_int['<EOS>'])\n",
    "        target_id_text.append(out)\n",
    "    return source_id_text, target_id_text\n",
    "\n",
    "\"\"\"\n",
    "DON'T MODIFY ANYTHING IN THIS CELL THAT IS BELOW THIS LINE\n",
    "\"\"\"\n",
    "tests.test_text_to_ids(text_to_ids)"
   ]
  },
  {
   "cell_type": "markdown",
   "metadata": {},
   "source": [
    "### Preprocess all the data and save it\n",
    "Running the code cell below will preprocess all the data and save it to file."
   ]
  },
  {
   "cell_type": "code",
   "execution_count": 10,
   "metadata": {
    "collapsed": true
   },
   "outputs": [],
   "source": [
    "\"\"\"\n",
    "DON'T MODIFY ANYTHING IN THIS CELL\n",
    "\"\"\"\n",
    "helper.preprocess_and_save_data(source_path, target_path, text_to_ids)"
   ]
  },
  {
   "cell_type": "markdown",
   "metadata": {},
   "source": [
    "# Check Point\n",
    "This is your first checkpoint. If you ever decide to come back to this notebook or have to restart the notebook, you can start from here. The preprocessed data has been saved to disk."
   ]
  },
  {
   "cell_type": "code",
   "execution_count": 11,
   "metadata": {
    "collapsed": true
   },
   "outputs": [],
   "source": [
    "\"\"\"\n",
    "DON'T MODIFY ANYTHING IN THIS CELL\n",
    "\"\"\"\n",
    "import numpy as np\n",
    "import helper\n",
    "\n",
    "(source_int_text, target_int_text), (source_vocab_to_int, target_vocab_to_int), _ = helper.load_preprocess()"
   ]
  },
  {
   "cell_type": "markdown",
   "metadata": {},
   "source": [
    "### Check the Version of TensorFlow and Access to GPU\n",
    "This will check to make sure you have the correct version of TensorFlow and access to a GPU"
   ]
  },
  {
   "cell_type": "code",
   "execution_count": 12,
   "metadata": {},
   "outputs": [
    {
     "name": "stdout",
     "output_type": "stream",
     "text": [
      "TensorFlow Version: 1.0.1\n",
      "Default GPU Device: /gpu:0\n"
     ]
    }
   ],
   "source": [
    "\"\"\"\n",
    "DON'T MODIFY ANYTHING IN THIS CELL\n",
    "\"\"\"\n",
    "from distutils.version import LooseVersion\n",
    "import warnings\n",
    "import tensorflow as tf\n",
    "\n",
    "# Check TensorFlow Version\n",
    "assert LooseVersion(tf.__version__) in [LooseVersion('1.0.0'), LooseVersion('1.0.1')], 'This project requires TensorFlow version 1.0  You are using {}'.format(tf.__version__)\n",
    "print('TensorFlow Version: {}'.format(tf.__version__))\n",
    "\n",
    "# Check for a GPU\n",
    "if not tf.test.gpu_device_name():\n",
    "    warnings.warn('No GPU found. Please use a GPU to train your neural network.')\n",
    "else:\n",
    "    print('Default GPU Device: {}'.format(tf.test.gpu_device_name()))"
   ]
  },
  {
   "cell_type": "markdown",
   "metadata": {},
   "source": [
    "## Build the Neural Network\n",
    "You'll build the components necessary to build a Sequence-to-Sequence model by implementing the following functions below:\n",
    "- `model_inputs`\n",
    "- `process_decoding_input`\n",
    "- `encoding_layer`\n",
    "- `decoding_layer_train`\n",
    "- `decoding_layer_infer`\n",
    "- `decoding_layer`\n",
    "- `seq2seq_model`\n",
    "\n",
    "### Input\n",
    "Implement the `model_inputs()` function to create TF Placeholders for the Neural Network. It should create the following placeholders:\n",
    "\n",
    "- Input text placeholder named \"input\" using the TF Placeholder name parameter with rank 2.\n",
    "- Targets placeholder with rank 2.\n",
    "- Learning rate placeholder with rank 0.\n",
    "- Keep probability placeholder named \"keep_prob\" using the TF Placeholder name parameter with rank 0.\n",
    "\n",
    "Return the placeholders in the following the tuple (Input, Targets, Learing Rate, Keep Probability)"
   ]
  },
  {
   "cell_type": "code",
   "execution_count": 13,
   "metadata": {},
   "outputs": [
    {
     "name": "stdout",
     "output_type": "stream",
     "text": [
      "Tests Passed\n"
     ]
    }
   ],
   "source": [
    "def model_inputs():\n",
    "    \"\"\"\n",
    "    Create TF Placeholders for input, targets, and learning rate.\n",
    "    :return: Tuple (input, targets, learning rate, keep probability)\n",
    "    \"\"\"\n",
    "    # TODO: Implement Function\n",
    "    i = tf.placeholder(tf.int32, shape=(None,None), name='input')\n",
    "    t = tf.placeholder(tf.int32, shape=(None,None), name='target')\n",
    "    lr = tf.placeholder(tf.float32, shape=None, name='lr')\n",
    "    kp = tf.placeholder(tf.float32, shape=None, name='keep_prob')\n",
    "    return i, t, lr, kp\n",
    "\n",
    "\"\"\"\n",
    "DON'T MODIFY ANYTHING IN THIS CELL THAT IS BELOW THIS LINE\n",
    "\"\"\"\n",
    "tests.test_model_inputs(model_inputs)"
   ]
  },
  {
   "cell_type": "markdown",
   "metadata": {},
   "source": [
    "### Process Decoding Input\n",
    "Implement `process_decoding_input` using TensorFlow to remove the last word id from each batch in `target_data` and concat the GO ID to the begining of each batch."
   ]
  },
  {
   "cell_type": "code",
   "execution_count": 14,
   "metadata": {},
   "outputs": [
    {
     "name": "stdout",
     "output_type": "stream",
     "text": [
      "Tests Passed\n"
     ]
    }
   ],
   "source": [
    "def process_decoding_input(target_data, target_vocab_to_int, batch_size):\n",
    "    \"\"\"\n",
    "    Preprocess target data for dencoding\n",
    "    :param target_data: Target Placehoder\n",
    "    :param target_vocab_to_int: Dictionary to go from the target words to an id\n",
    "    :param batch_size: Batch Size\n",
    "    :return: Preprocessed target data\n",
    "    \"\"\"\n",
    "    # TODO: Implement Function\n",
    "    wo_last_word = tf.strided_slice(target_data, [0,0], [batch_size, -1], [1,1])\n",
    "    go = tf.fill([batch_size, 1], target_vocab_to_int['<GO>'])\n",
    "    t_input = tf.concat([go, wo_last_word], 1)\n",
    "    return t_input\n",
    "\n",
    "\"\"\"\n",
    "DON'T MODIFY ANYTHING IN THIS CELL THAT IS BELOW THIS LINE\n",
    "\"\"\"\n",
    "tests.test_process_decoding_input(process_decoding_input)"
   ]
  },
  {
   "cell_type": "markdown",
   "metadata": {},
   "source": [
    "### Encoding\n",
    "Implement `encoding_layer()` to create a Encoder RNN layer using [`tf.nn.dynamic_rnn()`](https://www.tensorflow.org/api_docs/python/tf/nn/dynamic_rnn)."
   ]
  },
  {
   "cell_type": "code",
   "execution_count": 15,
   "metadata": {},
   "outputs": [
    {
     "name": "stdout",
     "output_type": "stream",
     "text": [
      "Tests Passed\n"
     ]
    }
   ],
   "source": [
    "def encoding_layer(rnn_inputs, rnn_size, num_layers, keep_prob):\n",
    "    \"\"\"\n",
    "    Create encoding layer\n",
    "    :param rnn_inputs: Inputs for the RNN\n",
    "    :param rnn_size: RNN Size\n",
    "    :param num_layers: Number of layers\n",
    "    :param keep_prob: Dropout keep probability\n",
    "    :return: RNN state\n",
    "    \"\"\"\n",
    "    # TODO: Implement Function\n",
    "    cell   = tf.contrib.rnn.BasicLSTMCell(rnn_size)\n",
    "    m_cell = tf.contrib.rnn.MultiRNNCell([cell] * num_layers)\n",
    "    d_cell = tf.contrib.rnn.DropoutWrapper(m_cell, keep_prob)\n",
    "    _, encoding_state = tf.nn.dynamic_rnn(d_cell, rnn_inputs, dtype=tf.float32)\n",
    "    return encoding_state\n",
    "\n",
    "\"\"\"\n",
    "DON'T MODIFY ANYTHING IN THIS CELL THAT IS BELOW THIS LINE\n",
    "\"\"\"\n",
    "tests.test_encoding_layer(encoding_layer)"
   ]
  },
  {
   "cell_type": "markdown",
   "metadata": {},
   "source": [
    "### Decoding - Training\n",
    "Create training logits using [`tf.contrib.seq2seq.simple_decoder_fn_train()`](https://www.tensorflow.org/api_docs/python/tf/contrib/seq2seq/simple_decoder_fn_train) and [`tf.contrib.seq2seq.dynamic_rnn_decoder()`](https://www.tensorflow.org/api_docs/python/tf/contrib/seq2seq/dynamic_rnn_decoder).  Apply the `output_fn` to the [`tf.contrib.seq2seq.dynamic_rnn_decoder()`](https://www.tensorflow.org/api_docs/python/tf/contrib/seq2seq/dynamic_rnn_decoder) outputs."
   ]
  },
  {
   "cell_type": "code",
   "execution_count": 16,
   "metadata": {},
   "outputs": [
    {
     "name": "stdout",
     "output_type": "stream",
     "text": [
      "Tests Passed\n"
     ]
    }
   ],
   "source": [
    "def decoding_layer_train(encoder_state, dec_cell, dec_embed_input, sequence_length, decoding_scope,\n",
    "                         output_fn, keep_prob):\n",
    "    \"\"\"\n",
    "    Create a decoding layer for training\n",
    "    :param encoder_state: Encoder State\n",
    "    :param dec_cell: Decoder RNN Cell\n",
    "    :param dec_embed_input: Decoder embedded input\n",
    "    :param sequence_length: Sequence Length\n",
    "    :param decoding_scope: TenorFlow Variable Scope for decoding\n",
    "    :param output_fn: Function to apply the output layer\n",
    "    :param keep_prob: Dropout keep probability\n",
    "    :return: Train Logits\n",
    "    \"\"\"\n",
    "    # TODO: Implement Function\n",
    "    d_fn_train = tf.contrib.seq2seq.simple_decoder_fn_train(encoder_state)\n",
    "    drop_cell  = tf.contrib.rnn.DropoutWrapper(dec_cell, keep_prob)\n",
    "    train_pred, _, _ = tf.contrib.seq2seq.dynamic_rnn_decoder(\n",
    "        drop_cell, d_fn_train, dec_embed_input, sequence_length, scope=decoding_scope)\n",
    "    logits = output_fn(train_pred)\n",
    "    return logits\n",
    "\n",
    "\n",
    "\"\"\"\n",
    "DON'T MODIFY ANYTHING IN THIS CELL THAT IS BELOW THIS LINE\n",
    "\"\"\"\n",
    "tests.test_decoding_layer_train(decoding_layer_train)"
   ]
  },
  {
   "cell_type": "markdown",
   "metadata": {},
   "source": [
    "### Decoding - Inference\n",
    "Create inference logits using [`tf.contrib.seq2seq.simple_decoder_fn_inference()`](https://www.tensorflow.org/api_docs/python/tf/contrib/seq2seq/simple_decoder_fn_inference) and [`tf.contrib.seq2seq.dynamic_rnn_decoder()`](https://www.tensorflow.org/api_docs/python/tf/contrib/seq2seq/dynamic_rnn_decoder). "
   ]
  },
  {
   "cell_type": "code",
   "execution_count": 17,
   "metadata": {},
   "outputs": [
    {
     "name": "stdout",
     "output_type": "stream",
     "text": [
      "Tests Passed\n"
     ]
    }
   ],
   "source": [
    "def decoding_layer_infer(encoder_state, dec_cell, dec_embeddings, start_of_sequence_id, end_of_sequence_id,\n",
    "                         maximum_length, vocab_size, decoding_scope, output_fn, keep_prob):\n",
    "    \"\"\"\n",
    "    Create a decoding layer for inference\n",
    "    :param encoder_state: Encoder state\n",
    "    :param dec_cell: Decoder RNN Cell\n",
    "    :param dec_embeddings: Decoder embeddings\n",
    "    :param start_of_sequence_id: GO ID\n",
    "    :param end_of_sequence_id: EOS Id\n",
    "    :param maximum_length: The maximum allowed time steps to decode\n",
    "    :param vocab_size: Size of vocabulary\n",
    "    :param decoding_scope: TensorFlow Variable Scope for decoding\n",
    "    :param output_fn: Function to apply the output layer\n",
    "    :param keep_prob: Dropout keep probability\n",
    "    :return: Inference Logits\n",
    "    \"\"\"\n",
    "    # TODO: Implement Function\n",
    "    inference_fn = tf.contrib.seq2seq.simple_decoder_fn_inference(\n",
    "        output_fn, encoder_state, dec_embeddings, start_of_sequence_id, end_of_sequence_id,\n",
    "        maximum_length, vocab_size)\n",
    "    drop_cell  = tf.contrib.rnn.DropoutWrapper(dec_cell, keep_prob)\n",
    "    inference_logits, _, _ = tf.contrib.seq2seq.dynamic_rnn_decoder(\n",
    "        drop_cell, inference_fn, scope=decoding_scope)\n",
    "    return inference_logits\n",
    "\n",
    "\n",
    "\"\"\"\n",
    "DON'T MODIFY ANYTHING IN THIS CELL THAT IS BELOW THIS LINE\n",
    "\"\"\"\n",
    "tests.test_decoding_layer_infer(decoding_layer_infer)"
   ]
  },
  {
   "cell_type": "markdown",
   "metadata": {},
   "source": [
    "### Build the Decoding Layer\n",
    "Implement `decoding_layer()` to create a Decoder RNN layer.\n",
    "\n",
    "- Create RNN cell for decoding using `rnn_size` and `num_layers`.\n",
    "- Create the output fuction using [`lambda`](https://docs.python.org/3/tutorial/controlflow.html#lambda-expressions) to transform it's input, logits, to class logits.\n",
    "- Use the your `decoding_layer_train(encoder_state, dec_cell, dec_embed_input, sequence_length, decoding_scope, output_fn, keep_prob)` function to get the training logits.\n",
    "- Use your `decoding_layer_infer(encoder_state, dec_cell, dec_embeddings, start_of_sequence_id, end_of_sequence_id, maximum_length, vocab_size, decoding_scope, output_fn, keep_prob)` function to get the inference logits.\n",
    "\n",
    "Note: You'll need to use [tf.variable_scope](https://www.tensorflow.org/api_docs/python/tf/variable_scope) to share variables between training and inference."
   ]
  },
  {
   "cell_type": "code",
   "execution_count": 18,
   "metadata": {},
   "outputs": [
    {
     "name": "stdout",
     "output_type": "stream",
     "text": [
      "Tests Passed\n"
     ]
    }
   ],
   "source": [
    "def decoding_layer(dec_embed_input, dec_embeddings, encoder_state, vocab_size, sequence_length, rnn_size,\n",
    "                   num_layers, target_vocab_to_int, keep_prob):\n",
    "    \"\"\"\n",
    "    Create decoding layer\n",
    "    :param dec_embed_input: Decoder embedded input\n",
    "    :param dec_embeddings: Decoder embeddings\n",
    "    :param encoder_state: The encoded state\n",
    "    :param vocab_size: Size of vocabulary\n",
    "    :param sequence_length: Sequence Length\n",
    "    :param rnn_size: RNN Size\n",
    "    :param num_layers: Number of layers\n",
    "    :param target_vocab_to_int: Dictionary to go from the target words to an id\n",
    "    :param keep_prob: Dropout keep probability\n",
    "    :return: Tuple of (Training Logits, Inference Logits)\n",
    "    \"\"\"\n",
    "    # TODO: Implement Function\n",
    "    cell   = tf.contrib.rnn.BasicLSTMCell(rnn_size)\n",
    "    m_cell = tf.contrib.rnn.MultiRNNCell([cell] * num_layers)\n",
    "    dec_cell = tf.contrib.rnn.DropoutWrapper(m_cell, keep_prob)\n",
    "    \n",
    "    with tf.variable_scope(\"decoding\") as decoding_scope:\n",
    "        output_fn = lambda x: tf.contrib.layers.fully_connected(x, vocab_size, None, scope=decoding_scope)\n",
    "\n",
    "        train_logits = decoding_layer_train(encoder_state, dec_cell, dec_embed_input,\n",
    "                                            sequence_length, decoding_scope, output_fn, keep_prob)\n",
    "    with tf.variable_scope(\"decoding\", reuse=True) as decoding_scope:\n",
    "        start_of_sequence_id = target_vocab_to_int['<GO>']\n",
    "        end_of_sequence_id = target_vocab_to_int['<EOS>']\n",
    "        inference_logits = decoding_layer_infer(encoder_state, dec_cell, dec_embeddings,\n",
    "                                                start_of_sequence_id, end_of_sequence_id, sequence_length - 1, vocab_size,\n",
    "                                                decoding_scope, output_fn, keep_prob)\n",
    "    return train_logits, inference_logits\n",
    "\n",
    "\n",
    "\"\"\"\n",
    "DON'T MODIFY ANYTHING IN THIS CELL THAT IS BELOW THIS LINE\n",
    "\"\"\"\n",
    "tests.test_decoding_layer(decoding_layer)"
   ]
  },
  {
   "cell_type": "markdown",
   "metadata": {},
   "source": [
    "### Build the Neural Network\n",
    "Apply the functions you implemented above to:\n",
    "\n",
    "- Apply embedding to the input data for the encoder.\n",
    "- Encode the input using your `encoding_layer(rnn_inputs, rnn_size, num_layers, keep_prob)`.\n",
    "- Process target data using your `process_decoding_input(target_data, target_vocab_to_int, batch_size)` function.\n",
    "- Apply embedding to the target data for the decoder.\n",
    "- Decode the encoded input using your `decoding_layer(dec_embed_input, dec_embeddings, encoder_state, vocab_size, sequence_length, rnn_size, num_layers, target_vocab_to_int, keep_prob)`."
   ]
  },
  {
   "cell_type": "code",
   "execution_count": 19,
   "metadata": {},
   "outputs": [
    {
     "name": "stdout",
     "output_type": "stream",
     "text": [
      "Tests Passed\n"
     ]
    }
   ],
   "source": [
    "def seq2seq_model(input_data, target_data, keep_prob, batch_size, sequence_length, source_vocab_size, target_vocab_size,\n",
    "                  enc_embedding_size, dec_embedding_size, rnn_size, num_layers, target_vocab_to_int):\n",
    "    \"\"\"\n",
    "    Build the Sequence-to-Sequence part of the neural network\n",
    "    :param input_data: Input placeholder\n",
    "    :param target_data: Target placeholder\n",
    "    :param keep_prob: Dropout keep probability placeholder\n",
    "    :param batch_size: Batch Size\n",
    "    :param sequence_length: Sequence Length\n",
    "    :param source_vocab_size: Source vocabulary size\n",
    "    :param target_vocab_size: Target vocabulary size\n",
    "    :param enc_embedding_size: Decoder embedding size\n",
    "    :param dec_embedding_size: Encoder embedding size\n",
    "    :param rnn_size: RNN Size\n",
    "    :param num_layers: Number of layers\n",
    "    :param target_vocab_to_int: Dictionary to go from the target words to an id\n",
    "    :return: Tuple of (Training Logits, Inference Logits)\n",
    "    \"\"\"\n",
    "    # TODO: Implement Function\n",
    "    enc_embed_input = tf.contrib.layers.embed_sequence(input_data, source_vocab_size, enc_embedding_size)\n",
    "    encoder_state = encoding_layer(enc_embed_input, rnn_size, num_layers, keep_prob)\n",
    "    \n",
    "    dec_input = process_decoding_input(target_data, target_vocab_to_int, batch_size)\n",
    "    dec_embeddings = tf.Variable(tf.random_uniform([target_vocab_size, dec_embedding_size]))\n",
    "    dec_embed_input = tf.nn.embedding_lookup(dec_embeddings, dec_input)\n",
    "    \n",
    "    tl, il = decoding_layer(dec_embed_input, dec_embeddings, encoder_state, target_vocab_size,\n",
    "                   sequence_length, rnn_size, num_layers, target_vocab_to_int, keep_prob)\n",
    "    return tl, il\n",
    "\n",
    "\n",
    "\"\"\"\n",
    "DON'T MODIFY ANYTHING IN THIS CELL THAT IS BELOW THIS LINE\n",
    "\"\"\"\n",
    "tests.test_seq2seq_model(seq2seq_model)"
   ]
  },
  {
   "cell_type": "markdown",
   "metadata": {},
   "source": [
    "## Neural Network Training\n",
    "### Hyperparameters\n",
    "Tune the following parameters:\n",
    "\n",
    "- Set `epochs` to the number of epochs.\n",
    "- Set `batch_size` to the batch size.\n",
    "- Set `rnn_size` to the size of the RNNs.\n",
    "- Set `num_layers` to the number of layers.\n",
    "- Set `encoding_embedding_size` to the size of the embedding for the encoder.\n",
    "- Set `decoding_embedding_size` to the size of the embedding for the decoder.\n",
    "- Set `learning_rate` to the learning rate.\n",
    "- Set `keep_probability` to the Dropout keep probability"
   ]
  },
  {
   "cell_type": "code",
   "execution_count": 47,
   "metadata": {
    "collapsed": true
   },
   "outputs": [],
   "source": [
    "# Number of Epochs\n",
    "epochs = 6\n",
    "# Batch Size\n",
    "batch_size = 256\n",
    "# RNN Size\n",
    "rnn_size = 256\n",
    "# Number of Layers\n",
    "num_layers = 2\n",
    "# Embedding Size\n",
    "encoding_embedding_size = 30\n",
    "decoding_embedding_size = 30\n",
    "# Learning Rate\n",
    "learning_rate = 0.005\n",
    "# Dropout Keep Probability\n",
    "keep_probability = 0.5"
   ]
  },
  {
   "cell_type": "markdown",
   "metadata": {},
   "source": [
    "### Build the Graph\n",
    "Build the graph using the neural network you implemented."
   ]
  },
  {
   "cell_type": "code",
   "execution_count": 48,
   "metadata": {
    "collapsed": true
   },
   "outputs": [],
   "source": [
    "\"\"\"\n",
    "DON'T MODIFY ANYTHING IN THIS CELL\n",
    "\"\"\"\n",
    "save_path = 'checkpoints/dev'\n",
    "(source_int_text, target_int_text), (source_vocab_to_int, target_vocab_to_int), _ = helper.load_preprocess()\n",
    "max_source_sentence_length = max([len(sentence) for sentence in source_int_text])\n",
    "\n",
    "train_graph = tf.Graph()\n",
    "with train_graph.as_default():\n",
    "    input_data, targets, lr, keep_prob = model_inputs()\n",
    "    sequence_length = tf.placeholder_with_default(max_source_sentence_length, None, name='sequence_length')\n",
    "    input_shape = tf.shape(input_data)\n",
    "    \n",
    "    train_logits, inference_logits = seq2seq_model(\n",
    "        tf.reverse(input_data, [-1]), targets, keep_prob, batch_size, sequence_length, len(source_vocab_to_int), len(target_vocab_to_int),\n",
    "        encoding_embedding_size, decoding_embedding_size, rnn_size, num_layers, target_vocab_to_int)\n",
    "\n",
    "    tf.identity(inference_logits, 'logits')\n",
    "    with tf.name_scope(\"optimization\"):\n",
    "        # Loss function\n",
    "        cost = tf.contrib.seq2seq.sequence_loss(\n",
    "            train_logits,\n",
    "            targets,\n",
    "            tf.ones([input_shape[0], sequence_length]))\n",
    "\n",
    "        tf.summary.scalar('cost', cost)\n",
    "        summary = tf.summary.merge_all()\n",
    "        \n",
    "        # Optimizer\n",
    "        optimizer = tf.train.AdamOptimizer(lr)\n",
    "\n",
    "        # Gradient Clipping\n",
    "        gradients = optimizer.compute_gradients(cost)\n",
    "        capped_gradients = [(tf.clip_by_value(grad, -1., 1.), var) for grad, var in gradients if grad is not None]\n",
    "        train_op = optimizer.apply_gradients(capped_gradients)"
   ]
  },
  {
   "cell_type": "markdown",
   "metadata": {},
   "source": [
    "### Train\n",
    "Train the neural network on the preprocessed data. If you have a hard time getting a good loss, check the forms to see if anyone is having the same problem."
   ]
  },
  {
   "cell_type": "code",
   "execution_count": 49,
   "metadata": {
    "scrolled": true
   },
   "outputs": [
    {
     "name": "stdout",
     "output_type": "stream",
     "text": [
      "Epoch   0 Batch    0/538 - Train Accuracy:  0.234, Validation Accuracy:  0.316, Loss:  5.872\n",
      "Epoch   0 Batch   20/538 - Train Accuracy:  0.352, Validation Accuracy:  0.393, Loss:  2.948\n",
      "Epoch   0 Batch   40/538 - Train Accuracy:  0.450, Validation Accuracy:  0.452, Loss:  2.338\n",
      "Epoch   0 Batch   60/538 - Train Accuracy:  0.451, Validation Accuracy:  0.502, Loss:  2.278\n",
      "Epoch   0 Batch   80/538 - Train Accuracy:  0.454, Validation Accuracy:  0.507, Loss:  2.126\n",
      "Epoch   0 Batch  100/538 - Train Accuracy:  0.487, Validation Accuracy:  0.529, Loss:  1.768\n",
      "Epoch   0 Batch  120/538 - Train Accuracy:  0.493, Validation Accuracy:  0.530, Loss:  1.497\n",
      "Epoch   0 Batch  140/538 - Train Accuracy:  0.501, Validation Accuracy:  0.556, Loss:  1.329\n",
      "Epoch   0 Batch  160/538 - Train Accuracy:  0.511, Validation Accuracy:  0.539, Loss:  1.052\n",
      "Epoch   0 Batch  180/538 - Train Accuracy:  0.594, Validation Accuracy:  0.592, Loss:  0.931\n",
      "Epoch   0 Batch  200/538 - Train Accuracy:  0.586, Validation Accuracy:  0.606, Loss:  0.827\n",
      "Epoch   0 Batch  220/538 - Train Accuracy:  0.553, Validation Accuracy:  0.605, Loss:  0.773\n",
      "Epoch   0 Batch  240/538 - Train Accuracy:  0.587, Validation Accuracy:  0.604, Loss:  0.754\n",
      "Epoch   0 Batch  260/538 - Train Accuracy:  0.601, Validation Accuracy:  0.616, Loss:  0.690\n",
      "Epoch   0 Batch  280/538 - Train Accuracy:  0.646, Validation Accuracy:  0.617, Loss:  0.649\n",
      "Epoch   0 Batch  300/538 - Train Accuracy:  0.628, Validation Accuracy:  0.627, Loss:  0.649\n",
      "Epoch   0 Batch  320/538 - Train Accuracy:  0.610, Validation Accuracy:  0.633, Loss:  0.624\n",
      "Epoch   0 Batch  340/538 - Train Accuracy:  0.593, Validation Accuracy:  0.624, Loss:  0.636\n",
      "Epoch   0 Batch  360/538 - Train Accuracy:  0.632, Validation Accuracy:  0.645, Loss:  0.606\n",
      "Epoch   0 Batch  380/538 - Train Accuracy:  0.609, Validation Accuracy:  0.646, Loss:  0.576\n",
      "Epoch   0 Batch  400/538 - Train Accuracy:  0.646, Validation Accuracy:  0.653, Loss:  0.546\n",
      "Epoch   0 Batch  420/538 - Train Accuracy:  0.657, Validation Accuracy:  0.670, Loss:  0.523\n",
      "Epoch   0 Batch  440/538 - Train Accuracy:  0.664, Validation Accuracy:  0.677, Loss:  0.516\n",
      "Epoch   0 Batch  460/538 - Train Accuracy:  0.649, Validation Accuracy:  0.692, Loss:  0.464\n",
      "Epoch   0 Batch  480/538 - Train Accuracy:  0.697, Validation Accuracy:  0.691, Loss:  0.446\n",
      "Epoch   0 Batch  500/538 - Train Accuracy:  0.703, Validation Accuracy:  0.686, Loss:  0.397\n",
      "Epoch   0 Batch  520/538 - Train Accuracy:  0.714, Validation Accuracy:  0.709, Loss:  0.432\n",
      "Epoch takes:  124.39297103881836\n",
      "Epoch   1 Batch    0/538 - Train Accuracy:  0.681, Validation Accuracy:  0.704, Loss:  0.399\n",
      "Epoch   1 Batch   20/538 - Train Accuracy:  0.716, Validation Accuracy:  0.735, Loss:  0.379\n",
      "Epoch   1 Batch   40/538 - Train Accuracy:  0.786, Validation Accuracy:  0.745, Loss:  0.310\n",
      "Epoch   1 Batch   60/538 - Train Accuracy:  0.758, Validation Accuracy:  0.746, Loss:  0.344\n",
      "Epoch   1 Batch   80/538 - Train Accuracy:  0.751, Validation Accuracy:  0.769, Loss:  0.328\n",
      "Epoch   1 Batch  100/538 - Train Accuracy:  0.762, Validation Accuracy:  0.761, Loss:  0.290\n",
      "Epoch   1 Batch  120/538 - Train Accuracy:  0.789, Validation Accuracy:  0.771, Loss:  0.267\n",
      "Epoch   1 Batch  140/538 - Train Accuracy:  0.746, Validation Accuracy:  0.768, Loss:  0.282\n",
      "Epoch   1 Batch  160/538 - Train Accuracy:  0.792, Validation Accuracy:  0.795, Loss:  0.240\n",
      "Epoch   1 Batch  180/538 - Train Accuracy:  0.833, Validation Accuracy:  0.817, Loss:  0.231\n",
      "Epoch   1 Batch  200/538 - Train Accuracy:  0.827, Validation Accuracy:  0.813, Loss:  0.211\n",
      "Epoch   1 Batch  220/538 - Train Accuracy:  0.792, Validation Accuracy:  0.808, Loss:  0.195\n",
      "Epoch   1 Batch  240/538 - Train Accuracy:  0.830, Validation Accuracy:  0.826, Loss:  0.207\n",
      "Epoch   1 Batch  260/538 - Train Accuracy:  0.802, Validation Accuracy:  0.829, Loss:  0.189\n",
      "Epoch   1 Batch  280/538 - Train Accuracy:  0.844, Validation Accuracy:  0.823, Loss:  0.161\n",
      "Epoch   1 Batch  300/538 - Train Accuracy:  0.833, Validation Accuracy:  0.859, Loss:  0.169\n",
      "Epoch   1 Batch  320/538 - Train Accuracy:  0.857, Validation Accuracy:  0.854, Loss:  0.160\n",
      "Epoch   1 Batch  340/538 - Train Accuracy:  0.848, Validation Accuracy:  0.851, Loss:  0.152\n",
      "Epoch   1 Batch  360/538 - Train Accuracy:  0.845, Validation Accuracy:  0.864, Loss:  0.147\n",
      "Epoch   1 Batch  380/538 - Train Accuracy:  0.892, Validation Accuracy:  0.877, Loss:  0.122\n",
      "Epoch   1 Batch  400/538 - Train Accuracy:  0.889, Validation Accuracy:  0.871, Loss:  0.130\n",
      "Epoch   1 Batch  420/538 - Train Accuracy:  0.905, Validation Accuracy:  0.881, Loss:  0.125\n",
      "Epoch   1 Batch  440/538 - Train Accuracy:  0.877, Validation Accuracy:  0.879, Loss:  0.133\n",
      "Epoch   1 Batch  460/538 - Train Accuracy:  0.860, Validation Accuracy:  0.881, Loss:  0.122\n",
      "Epoch   1 Batch  480/538 - Train Accuracy:  0.906, Validation Accuracy:  0.876, Loss:  0.109\n",
      "Epoch   1 Batch  500/538 - Train Accuracy:  0.911, Validation Accuracy:  0.874, Loss:  0.087\n",
      "Epoch   1 Batch  520/538 - Train Accuracy:  0.891, Validation Accuracy:  0.887, Loss:  0.101\n",
      "Epoch takes:  124.4186372756958\n",
      "Epoch   2 Batch    0/538 - Train Accuracy:  0.906, Validation Accuracy:  0.886, Loss:  0.088\n",
      "Epoch   2 Batch   20/538 - Train Accuracy:  0.899, Validation Accuracy:  0.884, Loss:  0.097\n",
      "Epoch   2 Batch   40/538 - Train Accuracy:  0.915, Validation Accuracy:  0.886, Loss:  0.074\n",
      "Epoch   2 Batch   60/538 - Train Accuracy:  0.915, Validation Accuracy:  0.906, Loss:  0.085\n",
      "Epoch   2 Batch   80/538 - Train Accuracy:  0.916, Validation Accuracy:  0.902, Loss:  0.089\n",
      "Epoch   2 Batch  100/538 - Train Accuracy:  0.910, Validation Accuracy:  0.879, Loss:  0.075\n",
      "Epoch   2 Batch  120/538 - Train Accuracy:  0.942, Validation Accuracy:  0.900, Loss:  0.066\n",
      "Epoch   2 Batch  140/538 - Train Accuracy:  0.894, Validation Accuracy:  0.896, Loss:  0.088\n",
      "Epoch   2 Batch  160/538 - Train Accuracy:  0.902, Validation Accuracy:  0.891, Loss:  0.073\n",
      "Epoch   2 Batch  180/538 - Train Accuracy:  0.929, Validation Accuracy:  0.898, Loss:  0.071\n",
      "Epoch   2 Batch  200/538 - Train Accuracy:  0.924, Validation Accuracy:  0.900, Loss:  0.062\n",
      "Epoch   2 Batch  220/538 - Train Accuracy:  0.893, Validation Accuracy:  0.900, Loss:  0.073\n",
      "Epoch   2 Batch  240/538 - Train Accuracy:  0.923, Validation Accuracy:  0.903, Loss:  0.068\n",
      "Epoch   2 Batch  260/538 - Train Accuracy:  0.886, Validation Accuracy:  0.885, Loss:  0.070\n",
      "Epoch   2 Batch  280/538 - Train Accuracy:  0.921, Validation Accuracy:  0.912, Loss:  0.056\n",
      "Epoch   2 Batch  300/538 - Train Accuracy:  0.911, Validation Accuracy:  0.912, Loss:  0.062\n",
      "Epoch   2 Batch  320/538 - Train Accuracy:  0.907, Validation Accuracy:  0.891, Loss:  0.055\n",
      "Epoch   2 Batch  340/538 - Train Accuracy:  0.917, Validation Accuracy:  0.917, Loss:  0.063\n",
      "Epoch   2 Batch  360/538 - Train Accuracy:  0.908, Validation Accuracy:  0.911, Loss:  0.066\n",
      "Epoch   2 Batch  380/538 - Train Accuracy:  0.932, Validation Accuracy:  0.913, Loss:  0.052\n",
      "Epoch   2 Batch  400/538 - Train Accuracy:  0.926, Validation Accuracy:  0.911, Loss:  0.052\n",
      "Epoch   2 Batch  420/538 - Train Accuracy:  0.941, Validation Accuracy:  0.921, Loss:  0.055\n",
      "Epoch   2 Batch  440/538 - Train Accuracy:  0.928, Validation Accuracy:  0.930, Loss:  0.059\n",
      "Epoch   2 Batch  460/538 - Train Accuracy:  0.903, Validation Accuracy:  0.912, Loss:  0.056\n",
      "Epoch   2 Batch  480/538 - Train Accuracy:  0.930, Validation Accuracy:  0.919, Loss:  0.048\n",
      "Epoch   2 Batch  500/538 - Train Accuracy:  0.947, Validation Accuracy:  0.919, Loss:  0.039\n",
      "Epoch   2 Batch  520/538 - Train Accuracy:  0.926, Validation Accuracy:  0.925, Loss:  0.050\n",
      "Epoch takes:  124.1725709438324\n",
      "Epoch   3 Batch    0/538 - Train Accuracy:  0.938, Validation Accuracy:  0.924, Loss:  0.047\n",
      "Epoch   3 Batch   20/538 - Train Accuracy:  0.925, Validation Accuracy:  0.924, Loss:  0.052\n",
      "Epoch   3 Batch   40/538 - Train Accuracy:  0.937, Validation Accuracy:  0.910, Loss:  0.046\n",
      "Epoch   3 Batch   60/538 - Train Accuracy:  0.931, Validation Accuracy:  0.911, Loss:  0.041\n",
      "Epoch   3 Batch   80/538 - Train Accuracy:  0.932, Validation Accuracy:  0.930, Loss:  0.044\n",
      "Epoch   3 Batch  100/538 - Train Accuracy:  0.948, Validation Accuracy:  0.917, Loss:  0.041\n",
      "Epoch   3 Batch  120/538 - Train Accuracy:  0.945, Validation Accuracy:  0.924, Loss:  0.036\n"
     ]
    },
    {
     "name": "stdout",
     "output_type": "stream",
     "text": [
      "Epoch   3 Batch  140/538 - Train Accuracy:  0.930, Validation Accuracy:  0.924, Loss:  0.058\n",
      "Epoch   3 Batch  160/538 - Train Accuracy:  0.909, Validation Accuracy:  0.934, Loss:  0.049\n",
      "Epoch   3 Batch  180/538 - Train Accuracy:  0.930, Validation Accuracy:  0.934, Loss:  0.045\n",
      "Epoch   3 Batch  200/538 - Train Accuracy:  0.932, Validation Accuracy:  0.915, Loss:  0.036\n",
      "Epoch   3 Batch  220/538 - Train Accuracy:  0.932, Validation Accuracy:  0.933, Loss:  0.045\n",
      "Epoch   3 Batch  240/538 - Train Accuracy:  0.946, Validation Accuracy:  0.937, Loss:  0.042\n",
      "Epoch   3 Batch  260/538 - Train Accuracy:  0.914, Validation Accuracy:  0.923, Loss:  0.050\n",
      "Epoch   3 Batch  280/538 - Train Accuracy:  0.937, Validation Accuracy:  0.924, Loss:  0.034\n",
      "Epoch   3 Batch  300/538 - Train Accuracy:  0.931, Validation Accuracy:  0.939, Loss:  0.046\n",
      "Epoch   3 Batch  320/538 - Train Accuracy:  0.938, Validation Accuracy:  0.935, Loss:  0.038\n",
      "Epoch   3 Batch  340/538 - Train Accuracy:  0.915, Validation Accuracy:  0.929, Loss:  0.044\n",
      "Epoch   3 Batch  360/538 - Train Accuracy:  0.946, Validation Accuracy:  0.930, Loss:  0.033\n",
      "Epoch   3 Batch  380/538 - Train Accuracy:  0.949, Validation Accuracy:  0.940, Loss:  0.037\n",
      "Epoch   3 Batch  400/538 - Train Accuracy:  0.943, Validation Accuracy:  0.932, Loss:  0.040\n",
      "Epoch   3 Batch  420/538 - Train Accuracy:  0.942, Validation Accuracy:  0.936, Loss:  0.041\n",
      "Epoch   3 Batch  440/538 - Train Accuracy:  0.945, Validation Accuracy:  0.948, Loss:  0.044\n",
      "Epoch   3 Batch  460/538 - Train Accuracy:  0.931, Validation Accuracy:  0.936, Loss:  0.037\n",
      "Epoch   3 Batch  480/538 - Train Accuracy:  0.940, Validation Accuracy:  0.933, Loss:  0.033\n",
      "Epoch   3 Batch  500/538 - Train Accuracy:  0.960, Validation Accuracy:  0.938, Loss:  0.028\n",
      "Epoch   3 Batch  520/538 - Train Accuracy:  0.942, Validation Accuracy:  0.945, Loss:  0.040\n",
      "Epoch takes:  123.42256498336792\n",
      "Epoch   4 Batch    0/538 - Train Accuracy:  0.955, Validation Accuracy:  0.939, Loss:  0.036\n",
      "Epoch   4 Batch   20/538 - Train Accuracy:  0.935, Validation Accuracy:  0.929, Loss:  0.035\n",
      "Epoch   4 Batch   40/538 - Train Accuracy:  0.962, Validation Accuracy:  0.942, Loss:  0.032\n",
      "Epoch   4 Batch   60/538 - Train Accuracy:  0.953, Validation Accuracy:  0.949, Loss:  0.033\n",
      "Epoch   4 Batch   80/538 - Train Accuracy:  0.954, Validation Accuracy:  0.942, Loss:  0.033\n",
      "Epoch   4 Batch  100/538 - Train Accuracy:  0.957, Validation Accuracy:  0.935, Loss:  0.033\n",
      "Epoch   4 Batch  120/538 - Train Accuracy:  0.959, Validation Accuracy:  0.936, Loss:  0.032\n",
      "Epoch   4 Batch  140/538 - Train Accuracy:  0.943, Validation Accuracy:  0.944, Loss:  0.046\n",
      "Epoch   4 Batch  160/538 - Train Accuracy:  0.926, Validation Accuracy:  0.940, Loss:  0.037\n",
      "Epoch   4 Batch  180/538 - Train Accuracy:  0.951, Validation Accuracy:  0.946, Loss:  0.039\n",
      "Epoch   4 Batch  200/538 - Train Accuracy:  0.955, Validation Accuracy:  0.939, Loss:  0.026\n",
      "Epoch   4 Batch  220/538 - Train Accuracy:  0.937, Validation Accuracy:  0.936, Loss:  0.033\n",
      "Epoch   4 Batch  240/538 - Train Accuracy:  0.950, Validation Accuracy:  0.944, Loss:  0.033\n",
      "Epoch   4 Batch  260/538 - Train Accuracy:  0.918, Validation Accuracy:  0.939, Loss:  0.037\n",
      "Epoch   4 Batch  280/538 - Train Accuracy:  0.954, Validation Accuracy:  0.946, Loss:  0.026\n",
      "Epoch   4 Batch  300/538 - Train Accuracy:  0.952, Validation Accuracy:  0.950, Loss:  0.032\n",
      "Epoch   4 Batch  320/538 - Train Accuracy:  0.946, Validation Accuracy:  0.944, Loss:  0.027\n",
      "Epoch   4 Batch  340/538 - Train Accuracy:  0.936, Validation Accuracy:  0.947, Loss:  0.034\n",
      "Epoch   4 Batch  360/538 - Train Accuracy:  0.961, Validation Accuracy:  0.953, Loss:  0.029\n",
      "Epoch   4 Batch  380/538 - Train Accuracy:  0.956, Validation Accuracy:  0.956, Loss:  0.034\n",
      "Epoch   4 Batch  400/538 - Train Accuracy:  0.952, Validation Accuracy:  0.948, Loss:  0.027\n",
      "Epoch   4 Batch  420/538 - Train Accuracy:  0.946, Validation Accuracy:  0.951, Loss:  0.033\n",
      "Epoch   4 Batch  440/538 - Train Accuracy:  0.951, Validation Accuracy:  0.960, Loss:  0.033\n",
      "Epoch   4 Batch  460/538 - Train Accuracy:  0.942, Validation Accuracy:  0.955, Loss:  0.033\n",
      "Epoch   4 Batch  480/538 - Train Accuracy:  0.958, Validation Accuracy:  0.953, Loss:  0.027\n",
      "Epoch   4 Batch  500/538 - Train Accuracy:  0.964, Validation Accuracy:  0.955, Loss:  0.025\n",
      "Epoch   4 Batch  520/538 - Train Accuracy:  0.948, Validation Accuracy:  0.959, Loss:  0.033\n",
      "Epoch takes:  123.59648180007935\n",
      "Epoch   5 Batch    0/538 - Train Accuracy:  0.959, Validation Accuracy:  0.956, Loss:  0.027\n",
      "Epoch   5 Batch   20/538 - Train Accuracy:  0.951, Validation Accuracy:  0.959, Loss:  0.034\n",
      "Epoch   5 Batch   40/538 - Train Accuracy:  0.954, Validation Accuracy:  0.953, Loss:  0.024\n",
      "Epoch   5 Batch   60/538 - Train Accuracy:  0.952, Validation Accuracy:  0.956, Loss:  0.043\n",
      "Epoch   5 Batch   80/538 - Train Accuracy:  0.965, Validation Accuracy:  0.964, Loss:  0.029\n",
      "Epoch   5 Batch  100/538 - Train Accuracy:  0.963, Validation Accuracy:  0.962, Loss:  0.029\n",
      "Epoch   5 Batch  120/538 - Train Accuracy:  0.954, Validation Accuracy:  0.956, Loss:  0.025\n",
      "Epoch   5 Batch  140/538 - Train Accuracy:  0.934, Validation Accuracy:  0.951, Loss:  0.037\n",
      "Epoch   5 Batch  160/538 - Train Accuracy:  0.933, Validation Accuracy:  0.951, Loss:  0.031\n",
      "Epoch   5 Batch  180/538 - Train Accuracy:  0.946, Validation Accuracy:  0.952, Loss:  0.030\n",
      "Epoch   5 Batch  200/538 - Train Accuracy:  0.971, Validation Accuracy:  0.951, Loss:  0.018\n",
      "Epoch   5 Batch  220/538 - Train Accuracy:  0.940, Validation Accuracy:  0.949, Loss:  0.027\n",
      "Epoch   5 Batch  240/538 - Train Accuracy:  0.956, Validation Accuracy:  0.958, Loss:  0.034\n",
      "Epoch   5 Batch  260/538 - Train Accuracy:  0.938, Validation Accuracy:  0.963, Loss:  0.031\n",
      "Epoch   5 Batch  280/538 - Train Accuracy:  0.950, Validation Accuracy:  0.958, Loss:  0.024\n",
      "Epoch   5 Batch  300/538 - Train Accuracy:  0.948, Validation Accuracy:  0.957, Loss:  0.026\n",
      "Epoch   5 Batch  320/538 - Train Accuracy:  0.961, Validation Accuracy:  0.958, Loss:  0.026\n",
      "Epoch   5 Batch  340/538 - Train Accuracy:  0.951, Validation Accuracy:  0.945, Loss:  0.027\n",
      "Epoch   5 Batch  360/538 - Train Accuracy:  0.967, Validation Accuracy:  0.958, Loss:  0.022\n",
      "Epoch   5 Batch  380/538 - Train Accuracy:  0.960, Validation Accuracy:  0.948, Loss:  0.026\n",
      "Epoch   5 Batch  400/538 - Train Accuracy:  0.966, Validation Accuracy:  0.955, Loss:  0.022\n",
      "Epoch   5 Batch  420/538 - Train Accuracy:  0.960, Validation Accuracy:  0.961, Loss:  0.025\n",
      "Epoch   5 Batch  440/538 - Train Accuracy:  0.947, Validation Accuracy:  0.949, Loss:  0.035\n",
      "Epoch   5 Batch  460/538 - Train Accuracy:  0.947, Validation Accuracy:  0.955, Loss:  0.031\n",
      "Epoch   5 Batch  480/538 - Train Accuracy:  0.967, Validation Accuracy:  0.956, Loss:  0.025\n",
      "Epoch   5 Batch  500/538 - Train Accuracy:  0.964, Validation Accuracy:  0.952, Loss:  0.020\n",
      "Epoch   5 Batch  520/538 - Train Accuracy:  0.957, Validation Accuracy:  0.955, Loss:  0.028\n",
      "Epoch takes:  123.07950210571289\n",
      "Model Trained and Saved\n"
     ]
    }
   ],
   "source": [
    "summary_writer = tf.summary.FileWriter('output/tb_logs')\n",
    "import time\n",
    "\n",
    "\"\"\"\n",
    "DON'T MODIFY ANYTHING IN THIS CELL\n",
    "\"\"\"\n",
    "import time\n",
    "\n",
    "def get_accuracy(target, logits):\n",
    "    \"\"\"\n",
    "    Calculate accuracy\n",
    "    \"\"\"\n",
    "    max_seq = max(target.shape[1], logits.shape[1])\n",
    "    if max_seq - target.shape[1]:\n",
    "        target = np.pad(\n",
    "            target,\n",
    "            [(0,0),(0,max_seq - target.shape[1])],\n",
    "            'constant')\n",
    "    if max_seq - logits.shape[1]:\n",
    "        logits = np.pad(\n",
    "            logits,\n",
    "            [(0,0),(0,max_seq - logits.shape[1]), (0,0)],\n",
    "            'constant')\n",
    "\n",
    "    return np.mean(np.equal(target, np.argmax(logits, 2)))\n",
    "\n",
    "train_source = source_int_text[batch_size:]\n",
    "train_target = target_int_text[batch_size:]\n",
    "\n",
    "valid_source = helper.pad_sentence_batch(source_int_text[:batch_size])\n",
    "valid_target = helper.pad_sentence_batch(target_int_text[:batch_size])\n",
    "\n",
    "with tf.Session(graph=train_graph) as sess:\n",
    "    sess.run(tf.global_variables_initializer())\n",
    "\n",
    "    for epoch_i in range(epochs):\n",
    "        start = time.time()\n",
    "        for batch_i, (source_batch, target_batch) in enumerate(\n",
    "                helper.batch_data(train_source, train_target, batch_size)):\n",
    "            start_time = time.time()\n",
    "            \n",
    "            _, loss, summary_str = sess.run(\n",
    "                [train_op, cost, summary],\n",
    "                {input_data: source_batch,\n",
    "                 targets: target_batch,\n",
    "                 lr: learning_rate,\n",
    "                 sequence_length: target_batch.shape[1],\n",
    "                 keep_prob: keep_probability})\n",
    "            \n",
    "            if batch_i % 20 == 0:\n",
    "                summary_writer.add_summary(summary_str, batch_i)\n",
    "            \n",
    "            batch_train_logits = sess.run(\n",
    "                inference_logits,\n",
    "                {input_data: source_batch, keep_prob: 1.0})\n",
    "            batch_valid_logits = sess.run(\n",
    "                inference_logits,\n",
    "                {input_data: valid_source, keep_prob: 1.0})\n",
    "                \n",
    "            train_acc = get_accuracy(target_batch, batch_train_logits)\n",
    "            valid_acc = get_accuracy(np.array(valid_target), batch_valid_logits)\n",
    "            end_time = time.time()\n",
    "            if batch_i % 20 == 0:\n",
    "                print('Epoch {:>3} Batch {:>4}/{} - Train Accuracy: {:>6.3f}, Validation Accuracy: {:>6.3f}, Loss: {:>6.3f}'\n",
    "                  .format(epoch_i, batch_i, len(source_int_text) // batch_size, train_acc, valid_acc, loss))\n",
    "        print('Epoch takes: ', time.time() - start)\n",
    "\n",
    "    # Save Model\n",
    "    saver = tf.train.Saver()\n",
    "    saver.save(sess, save_path)\n",
    "    summary_writer.add_graph(sess.graph)\n",
    "    summary_writer.flush()\n",
    "    print('Model Trained and Saved')"
   ]
  },
  {
   "cell_type": "markdown",
   "metadata": {},
   "source": [
    "### Save Parameters\n",
    "Save the `batch_size` and `save_path` parameters for inference."
   ]
  },
  {
   "cell_type": "code",
   "execution_count": 50,
   "metadata": {
    "collapsed": true
   },
   "outputs": [],
   "source": [
    "\"\"\"\n",
    "DON'T MODIFY ANYTHING IN THIS CELL\n",
    "\"\"\"\n",
    "# Save parameters for checkpoint\n",
    "helper.save_params(save_path)"
   ]
  },
  {
   "cell_type": "markdown",
   "metadata": {},
   "source": [
    "# Checkpoint"
   ]
  },
  {
   "cell_type": "code",
   "execution_count": 51,
   "metadata": {
    "collapsed": true
   },
   "outputs": [],
   "source": [
    "\"\"\"\n",
    "DON'T MODIFY ANYTHING IN THIS CELL\n",
    "\"\"\"\n",
    "import tensorflow as tf\n",
    "import numpy as np\n",
    "import helper\n",
    "import problem_unittests as tests\n",
    "\n",
    "_, (source_vocab_to_int, target_vocab_to_int), (source_int_to_vocab, target_int_to_vocab) = helper.load_preprocess()\n",
    "load_path = helper.load_params()"
   ]
  },
  {
   "cell_type": "markdown",
   "metadata": {},
   "source": [
    "## Sentence to Sequence\n",
    "To feed a sentence into the model for translation, you first need to preprocess it.  Implement the function `sentence_to_seq()` to preprocess new sentences.\n",
    "\n",
    "- Convert the sentence to lowercase\n",
    "- Convert words into ids using `vocab_to_int`\n",
    " - Convert words not in the vocabulary, to the `<UNK>` word id."
   ]
  },
  {
   "cell_type": "code",
   "execution_count": 52,
   "metadata": {},
   "outputs": [
    {
     "name": "stdout",
     "output_type": "stream",
     "text": [
      "Tests Passed\n"
     ]
    }
   ],
   "source": [
    "def sentence_to_seq(sentence, vocab_to_int):\n",
    "    \"\"\"\n",
    "    Convert a sentence to a sequence of ids\n",
    "    :param sentence: String\n",
    "    :param vocab_to_int: Dictionary to go from the words to an id\n",
    "    :return: List of word ids\n",
    "    \"\"\"\n",
    "    # TODO: Implement Function\n",
    "    unk = vocab_to_int['<UNK>']\n",
    "    return [vocab_to_int.get(word, unk) for word in sentence.lower().split()]\n",
    "\n",
    "\n",
    "\"\"\"\n",
    "DON'T MODIFY ANYTHING IN THIS CELL THAT IS BELOW THIS LINE\n",
    "\"\"\"\n",
    "tests.test_sentence_to_seq(sentence_to_seq)"
   ]
  },
  {
   "cell_type": "markdown",
   "metadata": {},
   "source": [
    "## Translate\n",
    "This will translate `translate_sentence` from English to French."
   ]
  },
  {
   "cell_type": "code",
   "execution_count": 58,
   "metadata": {},
   "outputs": [
    {
     "name": "stdout",
     "output_type": "stream",
     "text": [
      "Input\n",
      "  Word Ids:      [129, 54, 171, 126, 42, 149, 106, 102, 103, 73, 54, 171, 42, 149, 141]\n",
      "  English Words: ['your', 'least', 'liked', 'fruit', 'is', 'the', 'grape', ',', 'but', 'my', 'least', 'liked', 'is', 'the', 'apple']\n",
      "  English Phrase: your least liked fruit is the grape , but my least liked is the apple\n",
      "\n",
      "Prediction\n",
      "  Word Ids:      [212, 173, 177, 233, 215, 164, 28, 224, 254, 316, 173, 177, 215, 140, 353, 141, 1]\n",
      "  French Words: ['votre', 'moins', 'aimé', 'fruit', 'est', 'le', 'raisin', ',', 'mais', 'mon', 'moins', 'aimé', 'est', 'la', 'pomme', '.', '<EOS>']\n",
      "  Final fr seq: votre moins aimé fruit est le raisin , mais mon moins aimé est la pomme . <EOS>\n"
     ]
    }
   ],
   "source": [
    "#translate_sentence = 'he saw a old yellow truck .'\n",
    "translate_sentence = 'your least liked fruit is the grape , but my least liked is the apple'\n",
    "\n",
    "\"\"\"\n",
    "DON'T MODIFY ANYTHING IN THIS CELL\n",
    "\"\"\"\n",
    "translate_sentence = sentence_to_seq(translate_sentence, source_vocab_to_int)\n",
    "\n",
    "loaded_graph = tf.Graph()\n",
    "with tf.Session(graph=loaded_graph) as sess:\n",
    "    # Load saved model\n",
    "    loader = tf.train.import_meta_graph(load_path + '.meta')\n",
    "    loader.restore(sess, load_path)\n",
    "\n",
    "    input_data = loaded_graph.get_tensor_by_name('input:0')\n",
    "    logits = loaded_graph.get_tensor_by_name('logits:0')\n",
    "    keep_prob = loaded_graph.get_tensor_by_name('keep_prob:0')\n",
    "\n",
    "    translate_logits = sess.run(logits, {input_data: [translate_sentence], keep_prob: 1.0})[0]\n",
    "\n",
    "print('Input')\n",
    "print('  Word Ids:      {}'.format([i for i in translate_sentence]))\n",
    "words_to_tr = [source_int_to_vocab[i] for i in translate_sentence]\n",
    "print('  English Words: {}'.format(words_to_tr))\n",
    "print('  English Phrase: {}'.format(' '.join(words_to_tr)))\n",
    "\n",
    "print('\\nPrediction')\n",
    "print('  Word Ids:      {}'.format([i for i in np.argmax(translate_logits, 1)]))\n",
    "words = [target_int_to_vocab[i] for i in np.argmax(translate_logits, 1)]\n",
    "print('  French Words: {}'.format(words))\n",
    "print('  Final fr seq: {}'.format(' '.join(words)))"
   ]
  },
  {
   "cell_type": "markdown",
   "metadata": {},
   "source": [
    "## Imperfect Translation\n",
    "You might notice that some sentences translate better than others.  Since the dataset you're using only has a vocabulary of 227 English words of the thousands that you use, you're only going to see good results using these words.  For this project, you don't need a perfect translation. However, if you want to create a better translation model, you'll need better data.\n",
    "\n",
    "You can train on the [WMT10 French-English corpus](http://www.statmt.org/wmt10/training-giga-fren.tar).  This dataset has more vocabulary and richer in topics discussed.  However, this will take you days to train, so make sure you've a GPU and the neural network is performing well on dataset we provided.  Just make sure you play with the WMT10 corpus after you've submitted this project.\n",
    "## Submitting This Project\n",
    "When submitting this project, make sure to run all the cells before saving the notebook. Save the notebook file as \"dlnd_language_translation.ipynb\" and save it as a HTML file under \"File\" -> \"Download as\". Include the \"helper.py\" and \"problem_unittests.py\" files in your submission."
   ]
  }
 ],
 "metadata": {
  "kernelspec": {
   "display_name": "Python 3",
   "language": "python",
   "name": "python3"
  },
  "language_info": {
   "codemirror_mode": {
    "name": "ipython",
    "version": 3
   },
   "file_extension": ".py",
   "mimetype": "text/x-python",
   "name": "python",
   "nbconvert_exporter": "python",
   "pygments_lexer": "ipython3",
   "version": "3.5.2"
  }
 },
 "nbformat": 4,
 "nbformat_minor": 1
}
